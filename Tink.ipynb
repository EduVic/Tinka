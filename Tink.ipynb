{
  "nbformat": 4,
  "nbformat_minor": 0,
  "metadata": {
    "colab": {
      "provenance": [],
      "authorship_tag": "ABX9TyPyxB6j3zF7yBOFYE0QIcPC",
      "include_colab_link": true
    },
    "kernelspec": {
      "name": "python3",
      "display_name": "Python 3"
    },
    "language_info": {
      "name": "python"
    }
  },
  "cells": [
    {
      "cell_type": "markdown",
      "metadata": {
        "id": "view-in-github",
        "colab_type": "text"
      },
      "source": [
        "<a href=\"https://colab.research.google.com/github/EduVic/Tinka/blob/main/Tink.ipynb\" target=\"_parent\"><img src=\"https://colab.research.google.com/assets/colab-badge.svg\" alt=\"Open In Colab\"/></a>"
      ]
    },
    {
      "cell_type": "code",
      "execution_count": null,
      "metadata": {
        "colab": {
          "base_uri": "https://localhost:8080/"
        },
        "id": "b4gK7mJyJ-OX",
        "outputId": "9a19f2a0-bb8e-41a8-81ff-33152fdc157e"
      },
      "outputs": [
        {
          "output_type": "stream",
          "name": "stdout",
          "text": [
            "Los números seleccionados son: [41, 28, 42, 2, 26, 22]\n"
          ]
        }
      ],
      "source": [
        "import random\n",
        "\n",
        "def generar_numeros():\n",
        "    numeros_totales = list(range(1, 49))\n",
        "    numeros_seleccionados = random.sample(numeros_totales, 6)\n",
        "    return numeros_seleccionados\n",
        "\n",
        "if __name__ == \"__main__\":\n",
        "    numeros_aleatorios = generar_numeros()\n",
        "    print(\"Los números seleccionados son:\", numeros_aleatorios)"
      ]
    }
  ]
}