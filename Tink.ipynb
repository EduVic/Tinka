{
  "nbformat": 4,
  "nbformat_minor": 0,
  "metadata": {
    "colab": {
      "provenance": [],
      "authorship_tag": "ABX9TyMaYTMpdcvpD4wLyLuhb887",
      "include_colab_link": true
    },
    "kernelspec": {
      "name": "python3",
      "display_name": "Python 3"
    },
    "language_info": {
      "name": "python"
    }
  },
  "cells": [
    {
      "cell_type": "markdown",
      "metadata": {
        "id": "view-in-github",
        "colab_type": "text"
      },
      "source": [
        "<a href=\"https://colab.research.google.com/github/EduVic/Tinka/blob/main/Tink.ipynb\" target=\"_parent\"><img src=\"https://colab.research.google.com/assets/colab-badge.svg\" alt=\"Open In Colab\"/></a>"
      ]
    },
    {
      "cell_type": "code",
      "execution_count": 8,
      "metadata": {
        "colab": {
          "base_uri": "https://localhost:8080/"
        },
        "id": "b4gK7mJyJ-OX",
        "outputId": "053adb24-ffba-4bd4-9271-2897e0d4d705"
      },
      "outputs": [
        {
          "output_type": "stream",
          "name": "stdout",
          "text": [
            "Los números seleccionados son: [35, 41, 16, 22, 36, 3]\n"
          ]
        }
      ],
      "source": [
        "import random\n",
        "\n",
        "def generar_numeros():\n",
        "    numeros_totales = list(range(1, 51))\n",
        "    numeros_seleccionados = random.sample(numeros_totales, 6)\n",
        "    return numeros_seleccionados\n",
        "\n",
        "if __name__ == \"__main__\":\n",
        "    numeros_aleatorios = generar_numeros()\n",
        "    print(\"Los números seleccionados son:\", numeros_aleatorios)"
      ]
    }
  ]
}