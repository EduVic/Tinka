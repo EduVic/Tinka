{
  "nbformat": 4,
  "nbformat_minor": 0,
  "metadata": {
    "colab": {
      "provenance": [],
      "authorship_tag": "ABX9TyNTmjDH3A0gbQar+BKRFMK+",
      "include_colab_link": true
    },
    "kernelspec": {
      "name": "python3",
      "display_name": "Python 3"
    },
    "language_info": {
      "name": "python"
    }
  },
  "cells": [
    {
      "cell_type": "markdown",
      "metadata": {
        "id": "view-in-github",
        "colab_type": "text"
      },
      "source": [
        "<a href=\"https://colab.research.google.com/github/EduVic/Tinka/blob/main/TinkaMejorado.ipynb\" target=\"_parent\"><img src=\"https://colab.research.google.com/assets/colab-badge.svg\" alt=\"Open In Colab\"/></a>"
      ]
    },
    {
      "cell_type": "code",
      "execution_count": 1,
      "metadata": {
        "colab": {
          "base_uri": "https://localhost:8080/"
        },
        "id": "_homnv7mlsug",
        "outputId": "65e36494-1721-4cfd-c749-5ff452d686a9"
      },
      "outputs": [
        {
          "output_type": "stream",
          "name": "stdout",
          "text": [
            "🎱 Sorteo de bolillas del ánfora 🎱\n",
            "Extrayendo bolillas...\n",
            "\n",
            "➡️ Bolilla 1: 27\n",
            "➡️ Bolilla 2: 46\n",
            "➡️ Bolilla 3: 26\n",
            "➡️ Bolilla 4: 36\n",
            "➡️ Bolilla 5: 3\n",
            "➡️ Bolilla 6: 9\n",
            "\n",
            "✅ Las bolillas seleccionadas son: [3, 9, 26, 27, 36, 46]\n"
          ]
        }
      ],
      "source": [
        "import random\n",
        "import time\n",
        "\n",
        "def sorteo_bolillas():\n",
        "    bolillas = list(range(1, 51))  # ánfora con bolillas numeradas del 1 al 50\n",
        "    random.shuffle(bolillas)       # mezclamos las bolillas\n",
        "    seleccionados = []\n",
        "\n",
        "    print(\"🎱 Sorteo de bolillas del ánfora 🎱\")\n",
        "    print(\"Extrayendo bolillas...\\n\")\n",
        "\n",
        "    for i in range(6):  # sacar 6 bolillas\n",
        "        time.sleep(1.5)  # pausa para simular suspenso\n",
        "        bolilla = bolillas.pop()  # sacar la última bolilla\n",
        "        seleccionados.append(bolilla)\n",
        "        print(f\"➡️ Bolilla {i+1}: {bolilla}\")\n",
        "\n",
        "    print(\"\\n✅ Las bolillas seleccionadas son:\", sorted(seleccionados))\n",
        "\n",
        "if __name__ == \"__main__\":\n",
        "    sorteo_bolillas()"
      ]
    }
  ]
}